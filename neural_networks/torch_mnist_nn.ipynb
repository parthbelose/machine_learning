{
  "nbformat": 4,
  "nbformat_minor": 0,
  "metadata": {
    "colab": {
      "provenance": [],
      "gpuType": "T4"
    },
    "kernelspec": {
      "name": "python3",
      "display_name": "Python 3"
    },
    "language_info": {
      "name": "python"
    },
    "accelerator": "GPU"
  },
  "cells": [
    {
      "cell_type": "code",
      "execution_count": 1,
      "metadata": {
        "id": "8FjyYIErqwSU"
      },
      "outputs": [],
      "source": [
        "import torch\n",
        "import torch.nn as nn\n",
        "import torchvision\n",
        "import torchvision.transforms as transforms"
      ]
    },
    {
      "cell_type": "code",
      "source": [
        "train=torchvision.datasets.MNIST(root='./data',train=True,download=True,transform=transforms.ToTensor())\n",
        "test=torchvision.datasets.MNIST(root='./data',train=False,download=True,transform=transforms.ToTensor())"
      ],
      "metadata": {
        "id": "TKUDxWLAydbf"
      },
      "execution_count": null,
      "outputs": []
    },
    {
      "cell_type": "code",
      "source": [
        "device='cuda' if torch.cuda.is_available() else 'cpu'"
      ],
      "metadata": {
        "id": "NVPE8805rClZ"
      },
      "execution_count": 3,
      "outputs": []
    },
    {
      "cell_type": "code",
      "source": [
        "train_loader=torch.utils.data.DataLoader(train,batch_size=100,shuffle=True)\n",
        "test_loader=torch.utils.data.DataLoader(test,batch_size=100,shuffle=False)"
      ],
      "metadata": {
        "id": "uxf4ym54rxrv"
      },
      "execution_count": 5,
      "outputs": []
    },
    {
      "cell_type": "code",
      "source": [
        "learning_rate=0.001\n",
        "input_size=784\n",
        "hidden_size=500\n",
        "num_classes=10\n",
        "epochs=10"
      ],
      "metadata": {
        "id": "CWyxCe1AuQBo"
      },
      "execution_count": 10,
      "outputs": []
    },
    {
      "cell_type": "code",
      "source": [
        "class NeuralNetwork(nn.Module):\n",
        "  def __init__(self,input_size,hidden_size,num_classes):\n",
        "    super(NeuralNetwork,self).__init__()\n",
        "    self.lin1=nn.Linear(input_size,hidden_size,device=device)\n",
        "    self.relu=nn.ReLU()\n",
        "    self.lin2=nn.Linear(hidden_size,num_classes,device=device)\n",
        "\n",
        "  def forward(self,x):\n",
        "    out=self.lin1(x)\n",
        "    out=self.relu(out)\n",
        "    out=self.lin2(out)\n",
        "    return out\n",
        "\n",
        "model=NeuralNetwork(input_size,hidden_size,num_classes).to(device)\n",
        "\n",
        "criterion=nn.CrossEntropyLoss()\n",
        "optimizer=torch.optim.Adam(model.parameters(),lr=learning_rate)"
      ],
      "metadata": {
        "id": "DWnl71ysspon"
      },
      "execution_count": 11,
      "outputs": []
    },
    {
      "cell_type": "code",
      "source": [
        "for i in range(epochs):\n",
        "  for j,(images,labels) in enumerate(train_loader):\n",
        "    images=images.reshape(-1,28*28).to(device)\n",
        "    labels=labels.to(device)\n",
        "\n",
        "\n",
        "    outputs=model(images)\n",
        "    loss=criterion(outputs,labels)\n",
        "    loss.backward()\n",
        "    optimizer.step()\n",
        "    optimizer.zero_grad()\n",
        "\n",
        "    if (j+1) % 100 == 0:\n",
        "            print (f'Epoch [{i+1}/{epochs}] Loss: {loss.item():.4f}')"
      ],
      "metadata": {
        "id": "ttyYCM6Yyf1b"
      },
      "execution_count": null,
      "outputs": []
    },
    {
      "cell_type": "code",
      "source": [
        "with torch.no_grad():\n",
        "  correct=0\n",
        "  total=len(test_loader)\n",
        "  for images,labels in test_loader:\n",
        "    images=images.reshape(-1,28*28).to(device)\n",
        "    labels=labels.to(device)\n",
        "    outputs=model(images)\n",
        "    _,prediction=torch.max(outputs,1)\n",
        "    correct+=(prediction==labels).sum().item()\n",
        "  print(\"accuracy is \",correct/total)\n"
      ],
      "metadata": {
        "colab": {
          "base_uri": "https://localhost:8080/"
        },
        "id": "1V3cDJPrwWE5",
        "outputId": "36b47137-3168-4724-a63e-477de3f6eee9"
      },
      "execution_count": 13,
      "outputs": [
        {
          "output_type": "stream",
          "name": "stdout",
          "text": [
            "accuracy is  98.08\n"
          ]
        }
      ]
    }
  ]
}
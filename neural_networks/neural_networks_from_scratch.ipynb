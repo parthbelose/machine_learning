{
 "cells": [
  {
   "cell_type": "code",
   "execution_count": 177,
   "id": "b7c70216-36e4-4baf-95d7-3b5df8301548",
   "metadata": {},
   "outputs": [],
   "source": [
    "import pandas as pd\n",
    "import numpy as np\n",
    "import random"
   ]
  },
  {
   "cell_type": "code",
   "execution_count": 121,
   "id": "f24e2a1a-4809-4754-b6db-933f078d3102",
   "metadata": {},
   "outputs": [],
   "source": [
    "train_path=\"./mnist_train_small.csv\"\n",
    "test_path=\"./mnist_test.csv\"\n",
    "train=pd.read_csv(train_path)\n",
    "test=pd.read_csv(test_path)"
   ]
  },
  {
   "cell_type": "code",
   "execution_count": 199,
   "id": "78e847e6-5f99-4f8c-a01b-dd1ff2cb13e4",
   "metadata": {},
   "outputs": [],
   "source": [
    "train=np.array(train)\n",
    "m,n=train.shape\n",
    "np.random.shuffle(train)\n",
    "X=train[:,1:n].T\n",
    "X=X/255\n",
    "Y=train[:,0]"
   ]
  },
  {
   "cell_type": "code",
   "execution_count": 171,
   "id": "02415e88-7e17-40cc-a32a-9f7ceea5e8cd",
   "metadata": {},
   "outputs": [],
   "source": [
    "test=np.array(test)\n",
    "x_test=test[:,1:n].T\n",
    "x_test=x_test/255\n",
    "y_test=test[:,0]"
   ]
  },
  {
   "cell_type": "code",
   "execution_count": null,
   "id": "76843623-16f3-4374-9af7-aae96da352bd",
   "metadata": {},
   "outputs": [],
   "source": [
    "def _init_params():\n",
    "    W1 = np.random.rand(10, 784) - 0.5\n",
    "    b1 = np.random.rand(10, 1) - 0.5\n",
    "    W2 = np.random.rand(10, 10) - 0.5\n",
    "    b2 = np.random.rand(10, 1) - 0.5                           \n",
    "    return W1, b1, W2, b2\n",
    "\n",
    "def ReLu(Z):\n",
    "    return np.maximum(0, Z)\n",
    "\n",
    "def softmax(Z):\n",
    "    A=np.exp(Z)/sum(np.exp(Z))\n",
    "    return A\n",
    "\n",
    "def forward_prop(W1, b1, W2, b2, X):\n",
    "    Z1 = W1.dot(X) + b1\n",
    "    A1 = ReLu(Z1)\n",
    "    Z2 = W2.dot(A1) + b2\n",
    "    A2 = softmax(Z2)\n",
    "    return Z1, A1, Z2, A2\n",
    "\n",
    "def one_hot_encoding(Y):\n",
    "    one_hot_Y = np.zeros((Y.size, Y.max() + 1))\n",
    "    one_hot_Y[np.arange(Y.size), Y] = 1\n",
    "    one_hot_Y = one_hot_Y.T\n",
    "    return one_hot_Y\n",
    "\n",
    "def deriv_ReLu(Z):\n",
    "    return (Z > 0).astype(float) \n",
    "\n",
    "def backward_prop(Z1, A1, Z2, A2, W1, W2, X, Y):\n",
    "    m = Y.size\n",
    "    one_hot_Y = one_hot_encoding(Y)\n",
    "    dZ2 = A2 - one_hot_Y  \n",
    "    dW2 = 1/m * dZ2.dot(A1.T)  \n",
    "    db2 = 1/m * np.sum(dZ2, axis=1, keepdims=True) \n",
    "    dZ1 = W2.T.dot(dZ2) * deriv_ReLu(Z1)  \n",
    "    dW1 = 1/m * dZ1.dot(X.T)  \n",
    "    db1 = 1/m * np.sum(dZ1, axis=1, keepdims=True)  \n",
    "    return dW1, db1, dW2, db2\n",
    "\n",
    "def update_params(W1, b1, W2, b2, dW1, db1, dW2, db2, alpha):\n",
    "    W1 -= alpha * dW1\n",
    "    b1 -= alpha * db1\n",
    "    W2 -= alpha * dW2\n",
    "    b2 -= alpha * db2\n",
    "    return W1, b1, W2, b2\n",
    "\n",
    "def get_predictions(A2):\n",
    "    return np.argmax(A2, axis=0)\n",
    "\n",
    "def get_accuracy(predictions, Y):\n",
    "    return np.sum(predictions == Y) / Y.size\n",
    "\n",
    "def gradient_descent(X, Y, alpha = 0.1, iterations=1000):\n",
    "    W1, b1, W2, b2 = _init_params()\n",
    "    for i in range(iterations):\n",
    "        Z1, A1, Z2, A2 = forward_prop(W1, b1, W2, b2, X)\n",
    "        dW1, db1, dW2, db2 = backward_prop(Z1, A1, Z2, A2, W1, W2, X, Y)\n",
    "        W1, b1, W2, b2 = update_params(W1, b1, W2, b2, dW1, db1, dW2, db2, alpha)\n",
    "        if i % 100 == 0:\n",
    "            predictions = get_predictions(A2)\n",
    "            accuracy = get_accuracy(predictions, Y)\n",
    "            print(f\"Iteration: {i}, Accuracy: {100 * accuracy:.4f}%\")\n",
    "    return W1, b1, W2, b2\n"
   ]
  },
  {
   "cell_type": "code",
   "execution_count": 203,
   "id": "c7a32721-bcfa-4062-9f28-1f0b67c4ec5b",
   "metadata": {},
   "outputs": [
    {
     "name": "stdout",
     "output_type": "stream",
     "text": [
      "Iteration: 0, Accuracy: 11.8106%\n",
      "Iteration: 100, Accuracy: 69.1335%\n",
      "Iteration: 200, Accuracy: 79.0390%\n",
      "Iteration: 300, Accuracy: 82.8691%\n",
      "Iteration: 400, Accuracy: 84.8592%\n",
      "Iteration: 500, Accuracy: 86.0543%\n",
      "Iteration: 600, Accuracy: 86.9793%\n",
      "Iteration: 700, Accuracy: 87.5644%\n",
      "Iteration: 800, Accuracy: 88.1044%\n",
      "Iteration: 900, Accuracy: 88.5894%\n"
     ]
    }
   ],
   "source": [
    "W1,b1,W2,b2=gradient_descent(X,Y,0.1,1000)"
   ]
  },
  {
   "cell_type": "code",
   "execution_count": 209,
   "id": "f1f4d322-6577-443a-ae50-60ca2f0033ea",
   "metadata": {},
   "outputs": [
    {
     "name": "stdout",
     "output_type": "stream",
     "text": [
      "0.8858885888588859\n"
     ]
    }
   ],
   "source": [
    "_,_,_,A2=forward_prop(W1, b1, W2, b2, x_test)\n",
    "predictions=get_predictions(A2)\n",
    "accuracy=get_accuracy(predictions,y_test)\n",
    "print(accuracy)"
   ]
  }
 ],
 "metadata": {
  "kernelspec": {
   "display_name": "Python 3 (ipykernel)",
   "language": "python",
   "name": "python3"
  },
  "language_info": {
   "codemirror_mode": {
    "name": "ipython",
    "version": 3
   },
   "file_extension": ".py",
   "mimetype": "text/x-python",
   "name": "python",
   "nbconvert_exporter": "python",
   "pygments_lexer": "ipython3",
   "version": "3.11.7"
  }
 },
 "nbformat": 4,
 "nbformat_minor": 5
}
